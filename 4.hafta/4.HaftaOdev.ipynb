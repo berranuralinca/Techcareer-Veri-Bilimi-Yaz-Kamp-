{
 "cells": [
  {
   "cell_type": "markdown",
   "id": "b4b18ddd-639d-482f-9ec0-261475db1cdf",
   "metadata": {},
   "source": [
    "<h1>Veri Bilimi Ödevi – Numpy ve Pandas Uygulamaları</h1>"
   ]
  },
  {
   "cell_type": "markdown",
   "id": "ca88af51-90e4-40c8-aa90-611cef9fe85f",
   "metadata": {},
   "source": [
    "<h2>1. Numpy Bölümü</h2>"
   ]
  },
  {
   "cell_type": "code",
   "execution_count": 5,
   "id": "a896866f-6798-4e41-8905-443e2bc9fec8",
   "metadata": {},
   "outputs": [],
   "source": [
    "import numpy as np"
   ]
  },
  {
   "cell_type": "raw",
   "id": "8adbf116-95fe-4f55-910a-00052561cc46",
   "metadata": {},
   "source": [
    "1. Numpy ile Matris İşlemleri\n",
    "- 5x5 boyutunda rastgele (0-100 arasında) tam sayılardan oluşan bir matris oluşturun.\n",
    "- Bu matrisin:\n",
    "  • Ortalama, standart sapma ve varyansını hesaplayın.\n",
    "  • En büyük ve en küçük değerlerini bulun.\n",
    "  • Köşegenindeki elemanların toplamını bulun."
   ]
  },
  {
   "cell_type": "code",
   "execution_count": 74,
   "id": "a2b6db90-bd5b-48fb-8bbe-ef2d6b4e3e47",
   "metadata": {},
   "outputs": [
    {
     "name": "stdout",
     "output_type": "stream",
     "text": [
      "------Matris-----\n",
      "[[51 92 14 71 60]\n",
      " [20 82 86 74 74]\n",
      " [87 99 23  2 21]\n",
      " [52  1 87 29 37]\n",
      " [ 1 63 59 20 32]]\n",
      "---Ortalama: 49.48\n",
      "---Standart s.: 30.899993527507412\n",
      "---Varyans: 954.8095999999999\n",
      "---En büyük değer: 99\n",
      "---En küçük değer: 1\n",
      "---Köşegen toplamı: 217\n"
     ]
    }
   ],
   "source": [
    "np.random.seed(42)\n",
    "random_matrix = np.random.randint(0,100,25).reshape(5,5)\n",
    "print(\"------Matris-----\")\n",
    "print(random_matrix)\n",
    "print(f\"---Ortalama: {random_matrix.mean()}\")\n",
    "print(f\"---Standart s.: {random_matrix.std()}\")\n",
    "print(f\"---Varyans: {random_matrix.var()}\")\n",
    "print(f\"---En büyük değer: {random_matrix.max()}\")\n",
    "print(f\"---En küçük değer: {random_matrix.min()}\")\n",
    "print(f\"---Köşegen toplamı: {random_matrix.diagonal().sum()}\")"
   ]
  },
  {
   "cell_type": "raw",
   "id": "387b7ec3-3235-4340-8019-e28b021593e8",
   "metadata": {},
   "source": [
    "2. Numpy ile Veri Simülasyonu\n",
    "- 1000 adet öğrencinin sınav puanlarını (0-100 arası, normal dağılımdan gelen) simüle edin.\n",
    "- Ortalama, medyan ve standart sapmayı hesaplayın.\n",
    "- 50’den düşük alan kaç öğrenci olduğunu bulun."
   ]
  },
  {
   "cell_type": "code",
   "execution_count": 19,
   "id": "f0343369-b86e-4b83-af08-d38aa8c5ed07",
   "metadata": {},
   "outputs": [
    {
     "name": "stdout",
     "output_type": "stream",
     "text": [
      "---Ortalama: 50.28998083733488---\n",
      "---Standart s.: 14.680893116210314---\n",
      "---Medyan: 50.379509183523325---\n",
      "---50'den düşük: 490---\n"
     ]
    }
   ],
   "source": [
    "np.random.seed(42)\n",
    "student_points = np.random.normal(50,15,1000)\n",
    "print(f\"---Ortalama: {student_points.mean()}---\")\n",
    "print(f\"---Standart s.: {student_points.std()}---\")\n",
    "print(f\"---Medyan: {np.median(student_points)}---\")\n",
    "print(f\"---50'den düşük: {np.sum(student_points<50)}---\")"
   ]
  },
  {
   "cell_type": "markdown",
   "id": "be529b3e-32a9-4cb4-9e6f-df003373c65e",
   "metadata": {},
   "source": [
    "<h2>2.Pandas Bölümü</h2>"
   ]
  },
  {
   "cell_type": "raw",
   "id": "01e03775-8c33-4c71-843a-658b8bbef4fc",
   "metadata": {},
   "source": [
    "Bir CSV dosyası oluşturun ya da aşağıdaki gibi örnek bir DataFrame hazırlayın:\n",
    "Öğrenci\tYaş\tBölüm\t Matematik\tFizik  Kimya\n",
    "Ali\t    20\tBilgisayar\t70\t      65\t80\n",
    "Ayşe\t21\tFizik\t    60\t      75\t85\n",
    "Mehmet\t19\tKimya\t    80\t      70\t65\n",
    "Zeynep\t22\tBilgisayar\t90\t      85\t95\n",
    "Ahmet\t20\tFizik\t    55\t      60\t70"
   ]
  },
  {
   "cell_type": "code",
   "execution_count": 5,
   "id": "873bd53a-9921-4d84-99d6-0a0419e19cda",
   "metadata": {},
   "outputs": [],
   "source": [
    "import pandas as pd"
   ]
  },
  {
   "cell_type": "raw",
   "id": "7b3fb956-bbe5-4ef6-8981-68183561b9eb",
   "metadata": {},
   "source": [
    "1. Veri setini Pandas DataFrame olarak oluşturun."
   ]
  },
  {
   "cell_type": "code",
   "execution_count": 7,
   "id": "67323c80-4c8e-45ca-8bf2-f90624543575",
   "metadata": {},
   "outputs": [
    {
     "data": {
      "text/html": [
       "<div>\n",
       "<style scoped>\n",
       "    .dataframe tbody tr th:only-of-type {\n",
       "        vertical-align: middle;\n",
       "    }\n",
       "\n",
       "    .dataframe tbody tr th {\n",
       "        vertical-align: top;\n",
       "    }\n",
       "\n",
       "    .dataframe thead th {\n",
       "        text-align: right;\n",
       "    }\n",
       "</style>\n",
       "<table border=\"1\" class=\"dataframe\">\n",
       "  <thead>\n",
       "    <tr style=\"text-align: right;\">\n",
       "      <th></th>\n",
       "      <th>Öğrenci</th>\n",
       "      <th>Yaş</th>\n",
       "      <th>Bölüm</th>\n",
       "      <th>Matematik</th>\n",
       "      <th>Fizik</th>\n",
       "      <th>Kimya</th>\n",
       "    </tr>\n",
       "  </thead>\n",
       "  <tbody>\n",
       "    <tr>\n",
       "      <th>0</th>\n",
       "      <td>Ali</td>\n",
       "      <td>20</td>\n",
       "      <td>Bilgisayar</td>\n",
       "      <td>70</td>\n",
       "      <td>65</td>\n",
       "      <td>80</td>\n",
       "    </tr>\n",
       "    <tr>\n",
       "      <th>1</th>\n",
       "      <td>Ayşe</td>\n",
       "      <td>21</td>\n",
       "      <td>Fizik</td>\n",
       "      <td>60</td>\n",
       "      <td>75</td>\n",
       "      <td>85</td>\n",
       "    </tr>\n",
       "    <tr>\n",
       "      <th>2</th>\n",
       "      <td>Mehmet</td>\n",
       "      <td>19</td>\n",
       "      <td>Kimya</td>\n",
       "      <td>80</td>\n",
       "      <td>70</td>\n",
       "      <td>65</td>\n",
       "    </tr>\n",
       "    <tr>\n",
       "      <th>3</th>\n",
       "      <td>Zeynep</td>\n",
       "      <td>22</td>\n",
       "      <td>Bilgisayar</td>\n",
       "      <td>90</td>\n",
       "      <td>85</td>\n",
       "      <td>95</td>\n",
       "    </tr>\n",
       "    <tr>\n",
       "      <th>4</th>\n",
       "      <td>Ahmet</td>\n",
       "      <td>20</td>\n",
       "      <td>Fizik</td>\n",
       "      <td>55</td>\n",
       "      <td>60</td>\n",
       "      <td>70</td>\n",
       "    </tr>\n",
       "  </tbody>\n",
       "</table>\n",
       "</div>"
      ],
      "text/plain": [
       "  Öğrenci  Yaş       Bölüm  Matematik  Fizik  Kimya\n",
       "0     Ali   20  Bilgisayar         70     65     80\n",
       "1    Ayşe   21       Fizik         60     75     85\n",
       "2  Mehmet   19       Kimya         80     70     65\n",
       "3  Zeynep   22  Bilgisayar         90     85     95\n",
       "4   Ahmet   20       Fizik         55     60     70"
      ]
     },
     "execution_count": 7,
     "metadata": {},
     "output_type": "execute_result"
    }
   ],
   "source": [
    "df = pd.read_csv(\"C:/Users/berra/OneDrive/Masaüstü/veriler.csv\",sep=';')\n",
    "df"
   ]
  },
  {
   "cell_type": "raw",
   "id": "7c4e77d5-e68f-4cb5-9740-a8805ef40364",
   "metadata": {},
   "source": [
    "2. Her ders için ortalama puanı bulun."
   ]
  },
  {
   "cell_type": "code",
   "execution_count": 43,
   "id": "4a72bdcf-70b4-45ec-9838-64f609f3e98f",
   "metadata": {},
   "outputs": [
    {
     "name": "stdout",
     "output_type": "stream",
     "text": [
      "-----Ortalama puanlar------\n",
      "Matematik    71.0\n",
      "Fizik        71.0\n",
      "Kimya        79.0\n",
      "dtype: float64\n"
     ]
    }
   ],
   "source": [
    "print(\"-----Ortalama puanlar------\")\n",
    "print(df[[\"Matematik\",\"Fizik\",\"Kimya\"]].mean())"
   ]
  },
  {
   "cell_type": "raw",
   "id": "9896eb2a-a3b8-4771-b8dc-7e5b862e7ce3",
   "metadata": {},
   "source": [
    "3. En yüksek matematik notunu alan öğrenciyi bulun"
   ]
  },
  {
   "cell_type": "code",
   "execution_count": 45,
   "id": "4cdd0ab3-228d-4a1b-bace-71e4458aac86",
   "metadata": {},
   "outputs": [
    {
     "name": "stdout",
     "output_type": "stream",
     "text": [
      "---En yüksek matematik notuna sahip öğrenci---\n",
      "Öğrenci          Zeynep\n",
      "Yaş                  22\n",
      "Bölüm        Bilgisayar\n",
      "Matematik            90\n",
      "Fizik                85\n",
      "Kimya                95\n",
      "Name: 3, dtype: object\n"
     ]
    }
   ],
   "source": [
    "print(\"---En yüksek matematik notuna sahip öğrenci---\")\n",
    "print(df.loc[df[\"Matematik\"].idxmax()])"
   ]
  },
  {
   "cell_type": "raw",
   "id": "2cbdb555-f694-45bb-bed7-1f51a1f01989",
   "metadata": {},
   "source": [
    "4. Her öğrencinin not ortalamasını hesaplayan yeni bir sütun ekleyin."
   ]
  },
  {
   "cell_type": "code",
   "execution_count": 47,
   "id": "1a3b0e3d-b406-40a9-9f25-d7225e9d34ef",
   "metadata": {},
   "outputs": [
    {
     "name": "stdout",
     "output_type": "stream",
     "text": [
      "---Ortalamalı tablo---\n",
      "  Öğrenci  Yaş       Bölüm  Matematik  Fizik  Kimya   Ortalama\n",
      "0     Ali   20  Bilgisayar         70     65     80  71.666667\n",
      "1    Ayşe   21       Fizik         60     75     85  73.333333\n",
      "2  Mehmet   19       Kimya         80     70     65  71.666667\n",
      "3  Zeynep   22  Bilgisayar         90     85     95  90.000000\n",
      "4   Ahmet   20       Fizik         55     60     70  61.666667\n"
     ]
    }
   ],
   "source": [
    "df[\"Ortalama\"] = df[[\"Matematik\", \"Fizik\", \"Kimya\"]].mean(axis=1)\n",
    "print(\"---Ortalamalı tablo---\")\n",
    "print(df)"
   ]
  },
  {
   "cell_type": "raw",
   "id": "4bb2460c-fd03-48a2-ba75-c588a61349a8",
   "metadata": {},
   "source": [
    "5. Bölümlere göre gruplayarak her bölümün ortalama başarılarını hesaplayın."
   ]
  },
  {
   "cell_type": "code",
   "execution_count": 49,
   "id": "8e3f035b-77a4-4c13-b774-287909e6d785",
   "metadata": {},
   "outputs": [
    {
     "name": "stdout",
     "output_type": "stream",
     "text": [
      "            Matematik  Fizik  Kimya   Ortalama\n",
      "Bölüm                                         \n",
      "Bilgisayar       80.0   75.0   87.5  80.833333\n",
      "Fizik            57.5   67.5   77.5  67.500000\n",
      "Kimya            80.0   70.0   65.0  71.666667\n"
     ]
    }
   ],
   "source": [
    "Bolumler = df.groupby(\"Bölüm\")[[\"Matematik\", \"Fizik\", \"Kimya\",\"Ortalama\"]].mean()\n",
    "print(Bolumler)"
   ]
  },
  {
   "cell_type": "raw",
   "id": "5c982146-2962-4692-9814-4a3b9c0874bd",
   "metadata": {},
   "source": [
    "6. Ortalaması 70’in üzerinde olan öğrencileri filtreleyin."
   ]
  },
  {
   "cell_type": "code",
   "execution_count": 51,
   "id": "c9d34691-02b6-4fe5-b8fe-3b4f9314d6ec",
   "metadata": {},
   "outputs": [
    {
     "name": "stdout",
     "output_type": "stream",
     "text": [
      "---Ortalaması 70 üzeri---\n",
      "  Öğrenci  Yaş       Bölüm  Matematik  Fizik  Kimya   Ortalama\n",
      "0     Ali   20  Bilgisayar         70     65     80  71.666667\n",
      "1    Ayşe   21       Fizik         60     75     85  73.333333\n",
      "2  Mehmet   19       Kimya         80     70     65  71.666667\n",
      "3  Zeynep   22  Bilgisayar         90     85     95  90.000000\n"
     ]
    }
   ],
   "source": [
    "print(\"---Ortalaması 70 üzeri---\")\n",
    "print(df[df[\"Ortalama\"]>70])"
   ]
  },
  {
   "cell_type": "markdown",
   "id": "4e1dd02e-0efd-41a4-8761-2a865a0987cb",
   "metadata": {},
   "source": [
    "<h2>3. Ek Görev (Opsiyonel)</h2>"
   ]
  },
  {
   "cell_type": "raw",
   "id": "7cf6eb2a-77a7-4fc9-9d74-57e494848927",
   "metadata": {},
   "source": [
    "- Matplotlib veya Seaborn kullanarak:\n",
    "  • Her dersin dağılımını histogram ile gösterin.\n",
    "  • Bölümlere göre ortalamaları bar grafikte görselleştirin."
   ]
  },
  {
   "cell_type": "code",
   "execution_count": 54,
   "id": "fb6a72d1-9e63-4f6e-a82c-33130e099278",
   "metadata": {},
   "outputs": [],
   "source": [
    "import matplotlib.pyplot as plt\n",
    "import seaborn as sns"
   ]
  },
  {
   "cell_type": "code",
   "execution_count": 56,
   "id": "d2b64332-d0e3-4b7b-a612-13b66281e1cc",
   "metadata": {},
   "outputs": [
    {
     "data": {
      "text/html": [
       "<div>\n",
       "<style scoped>\n",
       "    .dataframe tbody tr th:only-of-type {\n",
       "        vertical-align: middle;\n",
       "    }\n",
       "\n",
       "    .dataframe tbody tr th {\n",
       "        vertical-align: top;\n",
       "    }\n",
       "\n",
       "    .dataframe thead th {\n",
       "        text-align: right;\n",
       "    }\n",
       "</style>\n",
       "<table border=\"1\" class=\"dataframe\">\n",
       "  <thead>\n",
       "    <tr style=\"text-align: right;\">\n",
       "      <th></th>\n",
       "      <th>Öğrenci</th>\n",
       "      <th>Yaş</th>\n",
       "      <th>Bölüm</th>\n",
       "      <th>Matematik</th>\n",
       "      <th>Fizik</th>\n",
       "      <th>Kimya</th>\n",
       "      <th>Ortalama</th>\n",
       "    </tr>\n",
       "  </thead>\n",
       "  <tbody>\n",
       "    <tr>\n",
       "      <th>0</th>\n",
       "      <td>Ali</td>\n",
       "      <td>20</td>\n",
       "      <td>Bilgisayar</td>\n",
       "      <td>70</td>\n",
       "      <td>65</td>\n",
       "      <td>80</td>\n",
       "      <td>71.666667</td>\n",
       "    </tr>\n",
       "    <tr>\n",
       "      <th>1</th>\n",
       "      <td>Ayşe</td>\n",
       "      <td>21</td>\n",
       "      <td>Fizik</td>\n",
       "      <td>60</td>\n",
       "      <td>75</td>\n",
       "      <td>85</td>\n",
       "      <td>73.333333</td>\n",
       "    </tr>\n",
       "    <tr>\n",
       "      <th>2</th>\n",
       "      <td>Mehmet</td>\n",
       "      <td>19</td>\n",
       "      <td>Kimya</td>\n",
       "      <td>80</td>\n",
       "      <td>70</td>\n",
       "      <td>65</td>\n",
       "      <td>71.666667</td>\n",
       "    </tr>\n",
       "    <tr>\n",
       "      <th>3</th>\n",
       "      <td>Zeynep</td>\n",
       "      <td>22</td>\n",
       "      <td>Bilgisayar</td>\n",
       "      <td>90</td>\n",
       "      <td>85</td>\n",
       "      <td>95</td>\n",
       "      <td>90.000000</td>\n",
       "    </tr>\n",
       "    <tr>\n",
       "      <th>4</th>\n",
       "      <td>Ahmet</td>\n",
       "      <td>20</td>\n",
       "      <td>Fizik</td>\n",
       "      <td>55</td>\n",
       "      <td>60</td>\n",
       "      <td>70</td>\n",
       "      <td>61.666667</td>\n",
       "    </tr>\n",
       "  </tbody>\n",
       "</table>\n",
       "</div>"
      ],
      "text/plain": [
       "  Öğrenci  Yaş       Bölüm  Matematik  Fizik  Kimya   Ortalama\n",
       "0     Ali   20  Bilgisayar         70     65     80  71.666667\n",
       "1    Ayşe   21       Fizik         60     75     85  73.333333\n",
       "2  Mehmet   19       Kimya         80     70     65  71.666667\n",
       "3  Zeynep   22  Bilgisayar         90     85     95  90.000000\n",
       "4   Ahmet   20       Fizik         55     60     70  61.666667"
      ]
     },
     "execution_count": 56,
     "metadata": {},
     "output_type": "execute_result"
    }
   ],
   "source": [
    "df"
   ]
  },
  {
   "cell_type": "code",
   "execution_count": 58,
   "id": "3b6cbfb0-8ae4-488e-873b-73b59520394a",
   "metadata": {},
   "outputs": [
    {
     "data": {
      "image/png": "[encoded data removed]",
      "text/plain": [
       "<Figure size 1500x500 with 3 Axes>"
      ]
     },
     "metadata": {},
     "output_type": "display_data"
    }
   ],
   "source": [
    "df_dersler = df[[\"Matematik\", \"Fizik\", \"Kimya\"]]\n",
    "plt.figure(figsize=(15, 5))\n",
    "i = 1\n",
    "for col in df_dersler.columns:\n",
    "    plt.subplot(1, 3, i) \n",
    "    sns.histplot(data=df_dersler, x=col)\n",
    "    plt.title(f\"{col} Not Dağılımı\")\n",
    "    i += 1\n",
    "plt.tight_layout()  \n",
    "plt.show()"
   ]
  },
  {
   "cell_type": "code",
   "execution_count": 76,
   "id": "725ef49b-e2f2-47f0-b2a4-85b8861249fe",
   "metadata": {},
   "outputs": [
    {
     "name": "stdout",
     "output_type": "stream",
     "text": [
      "        Bölüm   Ortalama\n",
      "0  Bilgisayar  80.833333\n",
      "1       Fizik  67.500000\n",
      "2       Kimya  71.666667\n"
     ]
    }
   ],
   "source": [
    "Bolumler = df.groupby(\"Bölüm\")[\"Ortalama\"].mean().reset_index()\n",
    "print(Bolumler)"
   ]
  },
  {
   "cell_type": "code",
   "execution_count": 82,
   "id": "e02a64d8-5c81-4c5a-8d1a-a187cb239e85",
   "metadata": {},
   "outputs": [
    {
     "data": {
      "image/png": "[encoded data removed]",
      "text/plain": [
       "<Figure size 640x480 with 1 Axes>"
      ]
     },
     "metadata": {},
     "output_type": "display_data"
    }
   ],
   "source": [
    "sns.barplot(data=Bolumler,x=\"Bölüm\",y=\"Ortalama\",hue=\"Bölüm\")\n",
    "plt.show()"
   ]
  }
 ],
 "metadata": {
  "kernelspec": {
   "display_name": "Python 3 (ipykernel)",
   "language": "python",
   "name": "python3"
  },
  "language_info": {
   "codemirror_mode": {
    "name": "ipython",
    "version": 3
   },
   "file_extension": ".py",
   "mimetype": "text/x-python",
   "name": "python",
   "nbconvert_exporter": "python",
   "pygments_lexer": "ipython3",
   "version": "3.12.4"
  }
 },
 "nbformat": 4,
 "nbformat_minor": 5
}
