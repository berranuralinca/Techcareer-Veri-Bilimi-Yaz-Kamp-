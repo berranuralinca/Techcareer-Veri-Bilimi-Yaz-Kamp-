{
 "cells": [
  {
   "cell_type": "markdown",
   "id": "7ddc3c08-8698-405e-b5ef-cb883c85ffb6",
   "metadata": {},
   "source": [
    "<h1>3.Hafta</h1>\n",
    "<hr>"
   ]
  },
  {
   "cell_type": "markdown",
   "id": "a82c7eb7-d399-4073-a1fd-4aecb20bf6ae",
   "metadata": {},
   "source": [
    "<h2>Built-In Fonksiyonlar</h2>\n",
    "<p>Ek kütüphane gerektirmeden kullanılabilir.</p>"
   ]
  },
  {
   "cell_type": "code",
   "execution_count": 12,
   "id": "2819bacf-9737-45b0-a33f-8a011fb37d18",
   "metadata": {},
   "outputs": [
    {
     "data": {
      "text/plain": [
       "121"
      ]
     },
     "execution_count": 12,
     "metadata": {},
     "output_type": "execute_result"
    }
   ],
   "source": [
    "# mutlak değeri almak\n",
    "abs(-121)"
   ]
  },
  {
   "cell_type": "code",
   "execution_count": 21,
   "id": "a9dc4a76-2c72-43d2-acf0-8c919f7917d0",
   "metadata": {},
   "outputs": [
    {
     "data": {
      "text/plain": [
       "True"
      ]
     },
     "execution_count": 21,
     "metadata": {},
     "output_type": "execute_result"
    }
   ],
   "source": [
    "# tüm elemanlar True ise True döner.\n",
    "all([True,True,True,True])"
   ]
  },
  {
   "cell_type": "code",
   "execution_count": 5,
   "id": "44689c94-fb34-495f-8096-15edcdba7983",
   "metadata": {},
   "outputs": [
    {
     "data": {
      "text/plain": [
       "True"
      ]
     },
     "execution_count": 5,
     "metadata": {},
     "output_type": "execute_result"
    }
   ],
   "source": [
    "# en az bir eleman True ise True döner.\n",
    "any([True,False,False])"
   ]
  },
  {
   "cell_type": "code",
   "execution_count": 6,
   "id": "e6867088-a5d8-4235-9c82-8287e3c0680b",
   "metadata": {},
   "outputs": [
    {
     "data": {
      "text/plain": [
       "'0b10110'"
      ]
     },
     "execution_count": 6,
     "metadata": {},
     "output_type": "execute_result"
    }
   ],
   "source": [
    "# decimal to binary\n",
    "bin(22)"
   ]
  },
  {
   "cell_type": "code",
   "execution_count": 7,
   "id": "e3049e43-9692-42a9-9204-27d1654ac4e0",
   "metadata": {},
   "outputs": [
    {
     "data": {
      "text/plain": [
       "(3+5j)"
      ]
     },
     "execution_count": 7,
     "metadata": {},
     "output_type": "execute_result"
    }
   ],
   "source": [
    "# karmaşık sayı\n",
    "complex(3,5)"
   ]
  },
  {
   "cell_type": "code",
   "execution_count": 8,
   "id": "7a023ab1-e140-42bf-ab10-8e04c39f88cc",
   "metadata": {},
   "outputs": [
    {
     "data": {
      "text/plain": [
       "(4, 1)"
      ]
     },
     "execution_count": 8,
     "metadata": {},
     "output_type": "execute_result"
    }
   ],
   "source": [
    "# (a//b,a%b) döndürür\n",
    "divmod(25,6)"
   ]
  },
  {
   "cell_type": "code",
   "execution_count": 9,
   "id": "945a2403-c81e-4dc4-bd75-4884fdfe9419",
   "metadata": {},
   "outputs": [
    {
     "name": "stdout",
     "output_type": "stream",
     "text": [
      "[(0, 'apple'), (1, 'banana'), (2, 'cherry')]\n"
     ]
    }
   ],
   "source": [
    "# enumarate indeks ve değer döndürür\n",
    "x = ('apple', 'banana', 'cherry')\n",
    "y = enumerate(x)\n",
    "print(list(y))"
   ]
  },
  {
   "cell_type": "code",
   "execution_count": 10,
   "id": "1a2fa846-b151-4519-9356-26e14b3b9ea1",
   "metadata": {},
   "outputs": [
    {
     "name": "stdout",
     "output_type": "stream",
     "text": [
      "[2, 4, 6]\n"
     ]
    }
   ],
   "source": [
    "# filter koşula uyan elemanları döndürür.\n",
    "my_list = [1,2,3,4,5,6]\n",
    "print(list(filter(lambda x:x % 2 == 0,my_list)))"
   ]
  },
  {
   "cell_type": "code",
   "execution_count": 126,
   "id": "abc8161d-7944-41ab-80bf-4a882b118370",
   "metadata": {},
   "outputs": [
    {
     "name": "stdout",
     "output_type": "stream",
     "text": [
      "[(1, 'a'), (2, 'b'), (3, 'c')]\n"
     ]
    }
   ],
   "source": [
    "# iki listeyi eleman eleman birleştirme\n",
    "a = [1, 2, 3]\n",
    "b = ['a', 'b', 'c']\n",
    "print(list(zip(a, b))) "
   ]
  },
  {
   "cell_type": "code",
   "execution_count": 128,
   "id": "59dc91b2-899d-4e06-b511-08894d6993f1",
   "metadata": {},
   "outputs": [
    {
     "name": "stdout",
     "output_type": "stream",
     "text": [
      "15\n"
     ]
    }
   ],
   "source": [
    "# ikişerli olarak tekrarlama\n",
    "from functools import reduce\n",
    "\n",
    "numbers = [1, 2, 3, 4, 5]\n",
    "result = reduce(lambda x, y: x + y, numbers)\n",
    "print(result)"
   ]
  },
  {
   "cell_type": "code",
   "execution_count": 130,
   "id": "51635961-56cf-469d-9289-4a20a2512864",
   "metadata": {},
   "outputs": [
    {
     "name": "stdout",
     "output_type": "stream",
     "text": [
      "Help on class list in module builtins:\n",
      "\n",
      "class list(object)\n",
      " |  list(iterable=(), /)\n",
      " |\n",
      " |  Built-in mutable sequence.\n",
      " |\n",
      " |  If no argument is given, the constructor creates a new empty list.\n",
      " |  The argument must be an iterable if specified.\n",
      " |\n",
      " |  Methods defined here:\n",
      " |\n",
      " |  __add__(self, value, /)\n",
      " |      Return self+value.\n",
      " |\n",
      " |  __contains__(self, key, /)\n",
      " |      Return bool(key in self).\n",
      " |\n",
      " |  __delitem__(self, key, /)\n",
      " |      Delete self[key].\n",
      " |\n",
      " |  __eq__(self, value, /)\n",
      " |      Return self==value.\n",
      " |\n",
      " |  __ge__(self, value, /)\n",
      " |      Return self>=value.\n",
      " |\n",
      " |  __getattribute__(self, name, /)\n",
      " |      Return getattr(self, name).\n",
      " |\n",
      " |  __getitem__(self, index, /)\n",
      " |      Return self[index].\n",
      " |\n",
      " |  __gt__(self, value, /)\n",
      " |      Return self>value.\n",
      " |\n",
      " |  __iadd__(self, value, /)\n",
      " |      Implement self+=value.\n",
      " |\n",
      " |  __imul__(self, value, /)\n",
      " |      Implement self*=value.\n",
      " |\n",
      " |  __init__(self, /, *args, **kwargs)\n",
      " |      Initialize self.  See help(type(self)) for accurate signature.\n",
      " |\n",
      " |  __iter__(self, /)\n",
      " |      Implement iter(self).\n",
      " |\n",
      " |  __le__(self, value, /)\n",
      " |      Return self<=value.\n",
      " |\n",
      " |  __len__(self, /)\n",
      " |      Return len(self).\n",
      " |\n",
      " |  __lt__(self, value, /)\n",
      " |      Return self<value.\n",
      " |\n",
      " |  __mul__(self, value, /)\n",
      " |      Return self*value.\n",
      " |\n",
      " |  __ne__(self, value, /)\n",
      " |      Return self!=value.\n",
      " |\n",
      " |  __repr__(self, /)\n",
      " |      Return repr(self).\n",
      " |\n",
      " |  __reversed__(self, /)\n",
      " |      Return a reverse iterator over the list.\n",
      " |\n",
      " |  __rmul__(self, value, /)\n",
      " |      Return value*self.\n",
      " |\n",
      " |  __setitem__(self, key, value, /)\n",
      " |      Set self[key] to value.\n",
      " |\n",
      " |  __sizeof__(self, /)\n",
      " |      Return the size of the list in memory, in bytes.\n",
      " |\n",
      " |  append(self, object, /)\n",
      " |      Append object to the end of the list.\n",
      " |\n",
      " |  clear(self, /)\n",
      " |      Remove all items from list.\n",
      " |\n",
      " |  copy(self, /)\n",
      " |      Return a shallow copy of the list.\n",
      " |\n",
      " |  count(self, value, /)\n",
      " |      Return number of occurrences of value.\n",
      " |\n",
      " |  extend(self, iterable, /)\n",
      " |      Extend list by appending elements from the iterable.\n",
      " |\n",
      " |  index(self, value, start=0, stop=9223372036854775807, /)\n",
      " |      Return first index of value.\n",
      " |\n",
      " |      Raises ValueError if the value is not present.\n",
      " |\n",
      " |  insert(self, index, object, /)\n",
      " |      Insert object before index.\n",
      " |\n",
      " |  pop(self, index=-1, /)\n",
      " |      Remove and return item at index (default last).\n",
      " |\n",
      " |      Raises IndexError if list is empty or index is out of range.\n",
      " |\n",
      " |  remove(self, value, /)\n",
      " |      Remove first occurrence of value.\n",
      " |\n",
      " |      Raises ValueError if the value is not present.\n",
      " |\n",
      " |  reverse(self, /)\n",
      " |      Reverse *IN PLACE*.\n",
      " |\n",
      " |  sort(self, /, *, key=None, reverse=False)\n",
      " |      Sort the list in ascending order and return None.\n",
      " |\n",
      " |      The sort is in-place (i.e. the list itself is modified) and stable (i.e. the\n",
      " |      order of two equal elements is maintained).\n",
      " |\n",
      " |      If a key function is given, apply it once to each list item and sort them,\n",
      " |      ascending or descending, according to their function values.\n",
      " |\n",
      " |      The reverse flag can be set to sort in descending order.\n",
      " |\n",
      " |  ----------------------------------------------------------------------\n",
      " |  Class methods defined here:\n",
      " |\n",
      " |  __class_getitem__(...)\n",
      " |      See PEP 585\n",
      " |\n",
      " |  ----------------------------------------------------------------------\n",
      " |  Static methods defined here:\n",
      " |\n",
      " |  __new__(*args, **kwargs)\n",
      " |      Create and return a new object.  See help(type) for accurate signature.\n",
      " |\n",
      " |  ----------------------------------------------------------------------\n",
      " |  Data and other attributes defined here:\n",
      " |\n",
      " |  __hash__ = None\n",
      "\n"
     ]
    }
   ],
   "source": [
    "# yardım bilgisi\n",
    "help(list)"
   ]
  },
  {
   "cell_type": "code",
   "execution_count": 25,
   "id": "74ab14c3-732d-4cd4-8e41-e952281224fa",
   "metadata": {},
   "outputs": [
    {
     "data": {
      "text/plain": [
       "'0x16'"
      ]
     },
     "execution_count": 25,
     "metadata": {},
     "output_type": "execute_result"
    }
   ],
   "source": [
    "# decimal to hexadecimal\n",
    "hex(22)"
   ]
  },
  {
   "cell_type": "code",
   "execution_count": 29,
   "id": "d9cb91c9-81c5-444c-99a8-52cdecaac5d7",
   "metadata": {},
   "outputs": [
    {
     "name": "stdout",
     "output_type": "stream",
     "text": [
      "[1, 4, 9, 16, 25, 36]\n"
     ]
    }
   ],
   "source": [
    "# her elemana uygular\n",
    "print(list(map(lambda x:x**2,my_list)))"
   ]
  },
  {
   "cell_type": "code",
   "execution_count": 31,
   "id": "a799603e-5720-4224-ba52-f730eb1a5dee",
   "metadata": {},
   "outputs": [
    {
     "data": {
      "text/plain": [
       "6"
      ]
     },
     "execution_count": 31,
     "metadata": {},
     "output_type": "execute_result"
    }
   ],
   "source": [
    "# max değeri döndürür\n",
    "max(my_list)"
   ]
  },
  {
   "cell_type": "code",
   "execution_count": 33,
   "id": "22a46c3c-aabe-4ae2-ace6-4d5198b4ecc6",
   "metadata": {},
   "outputs": [
    {
     "data": {
      "text/plain": [
       "1"
      ]
     },
     "execution_count": 33,
     "metadata": {},
     "output_type": "execute_result"
    }
   ],
   "source": [
    "# min değeri döndürür\n",
    "min(my_list)"
   ]
  },
  {
   "cell_type": "code",
   "execution_count": 45,
   "id": "e737f745-0e45-4d5a-ad9e-82d028498b56",
   "metadata": {},
   "outputs": [
    {
     "name": "stdout",
     "output_type": "stream",
     "text": [
      "apple\n"
     ]
    }
   ],
   "source": [
    "# sonraki elemanı döndürür\n",
    "mylist = iter([\"apple\", \"banana\", \"cherry\"])\n",
    "x = next(mylist)\n",
    "print(x)"
   ]
  },
  {
   "cell_type": "code",
   "execution_count": 47,
   "id": "3c40f0d3-42f3-42e4-9a62-b66f3e8e3b80",
   "metadata": {},
   "outputs": [
    {
     "data": {
      "text/plain": [
       "'0o26'"
      ]
     },
     "execution_count": 47,
     "metadata": {},
     "output_type": "execute_result"
    }
   ],
   "source": [
    "# decimal to octal\n",
    "oct(22)"
   ]
  },
  {
   "cell_type": "code",
   "execution_count": 49,
   "id": "a9ba4227-4708-4209-be73-71541226af3d",
   "metadata": {},
   "outputs": [
    {
     "data": {
      "text/plain": [
       "32"
      ]
     },
     "execution_count": 49,
     "metadata": {},
     "output_type": "execute_result"
    }
   ],
   "source": [
    "# üs alma\n",
    "pow(2,5)"
   ]
  },
  {
   "cell_type": "code",
   "execution_count": 55,
   "id": "fb8610c2-7cff-43f1-b4d7-739d528c8e80",
   "metadata": {},
   "outputs": [
    {
     "name": "stdout",
     "output_type": "stream",
     "text": [
      "0 2 4\n"
     ]
    }
   ],
   "source": [
    "# sayı dizisi\n",
    "print(*range(0,5,2))"
   ]
  },
  {
   "cell_type": "code",
   "execution_count": 57,
   "id": "e8e3f22d-2dfa-4d8f-96d2-bd698dabb76d",
   "metadata": {},
   "outputs": [
    {
     "data": {
      "text/plain": [
       "3.133"
      ]
     },
     "execution_count": 57,
     "metadata": {},
     "output_type": "execute_result"
    }
   ],
   "source": [
    "# sayıyı yuvarlar\n",
    "round(3.13289432,3)"
   ]
  },
  {
   "cell_type": "code",
   "execution_count": 59,
   "id": "98a4a9e0-4805-4d2d-8350-4dbe84980f36",
   "metadata": {},
   "outputs": [
    {
     "data": {
      "text/plain": [
       "21"
      ]
     },
     "execution_count": 59,
     "metadata": {},
     "output_type": "execute_result"
    }
   ],
   "source": [
    "# toplam verir\n",
    "sum(my_list)"
   ]
  },
  {
   "cell_type": "code",
   "execution_count": 61,
   "id": "515f7979-0b3d-43ea-b385-7af5a738390a",
   "metadata": {},
   "outputs": [
    {
     "data": {
      "text/plain": [
       "{1, 2, 3, 4, 5, 6}"
      ]
     },
     "execution_count": 61,
     "metadata": {},
     "output_type": "execute_result"
    }
   ],
   "source": [
    "my_list_item = [1,2,2,3,5,1,6,3,4]\n",
    "my_set = set(my_list_item)  # tekrarlamaz.\n",
    "my_set"
   ]
  },
  {
   "cell_type": "code",
   "execution_count": 63,
   "id": "e0d52f62-5077-4947-9d13-5d98fb4ced0e",
   "metadata": {},
   "outputs": [
    {
     "data": {
      "text/plain": [
       "[1, 2, 2, 3, 5, 1, 6, 3, 4, [1, 2, 3, 4]]"
      ]
     },
     "execution_count": 63,
     "metadata": {},
     "output_type": "execute_result"
    }
   ],
   "source": [
    "# append listeyi tek bir eleman olarak ekler\n",
    "my_list_item.append([1,2,3,4])\n",
    "my_list_item"
   ]
  },
  {
   "cell_type": "code",
   "execution_count": 65,
   "id": "a6430fc9-e3a7-405b-ab58-cb6b4ef77b43",
   "metadata": {},
   "outputs": [
    {
     "data": {
      "text/plain": [
       "[1, 2, 2, 3, 5, 1, 6, 3, 4, [1, 2, 3, 4], 1, 2, 3, 4]"
      ]
     },
     "execution_count": 65,
     "metadata": {},
     "output_type": "execute_result"
    }
   ],
   "source": [
    "# extend listenin her bir elemanını ekler\n",
    "my_list_item.extend([1,2,3,4])\n",
    "my_list_item"
   ]
  },
  {
   "cell_type": "code",
   "execution_count": 69,
   "id": "100cf673-65a7-489d-a88f-157700dcc128",
   "metadata": {},
   "outputs": [
    {
     "data": {
      "text/plain": [
       "[1, 555555, 2, 2, 3, 5, 1, 6, 3, 4, [1, 2, 3, 4], 1, 2, 3, 4]"
      ]
     },
     "execution_count": 69,
     "metadata": {},
     "output_type": "execute_result"
    }
   ],
   "source": [
    "# insert indexe göre ekler\n",
    "my_list_item.insert(1,555555)\n",
    "my_list_item"
   ]
  },
  {
   "cell_type": "code",
   "execution_count": 77,
   "id": "2104fa17-26d7-4017-b966-0effd27c6b6d",
   "metadata": {},
   "outputs": [
    {
     "data": {
      "text/plain": [
       "3"
      ]
     },
     "execution_count": 77,
     "metadata": {},
     "output_type": "execute_result"
    }
   ],
   "source": [
    "# pop ekrana yazar ve siler\n",
    "my_list_item.pop(1)"
   ]
  },
  {
   "cell_type": "code",
   "execution_count": 79,
   "id": "d9659272-39b4-448d-befb-9d2122a64a75",
   "metadata": {},
   "outputs": [
    {
     "data": {
      "text/plain": [
       "[5, 1, 6, 3, 4, [1, 2, 3, 4], 1, 2, 3, 4]"
      ]
     },
     "execution_count": 79,
     "metadata": {},
     "output_type": "execute_result"
    }
   ],
   "source": [
    "# verilen elemanı siler yoksa hata verir\n",
    "my_list_item.remove(1)\n",
    "my_list_item"
   ]
  },
  {
   "cell_type": "code",
   "execution_count": 81,
   "id": "fb5d0fa3-6f09-40e4-a422-38835f73fb87",
   "metadata": {},
   "outputs": [
    {
     "data": {
      "text/plain": [
       "0"
      ]
     },
     "execution_count": 81,
     "metadata": {},
     "output_type": "execute_result"
    }
   ],
   "source": [
    "# elemanın indexini verir\n",
    "my_list_item.index(5)"
   ]
  },
  {
   "cell_type": "code",
   "execution_count": 83,
   "id": "85906880-5761-4a9a-ba60-25bfe51ed200",
   "metadata": {},
   "outputs": [
    {
     "data": {
      "text/plain": [
       "2"
      ]
     },
     "execution_count": 83,
     "metadata": {},
     "output_type": "execute_result"
    }
   ],
   "source": [
    "# count elemanın kaç kere olduğunu sayar\n",
    "my_list_item.count(1)"
   ]
  },
  {
   "cell_type": "code",
   "execution_count": 96,
   "id": "373f4237-42ea-4b39-b16f-d743652eac3b",
   "metadata": {},
   "outputs": [
    {
     "data": {
      "text/plain": [
       "[1, 1, 2, 3, 3, 4, 4, 5, 6]"
      ]
     },
     "execution_count": 96,
     "metadata": {},
     "output_type": "execute_result"
    }
   ],
   "source": [
    "# listeyi sıralarken\n",
    "my_list = [5, 1, 6, 3, 4, 1, 2, 3, 4]\n",
    "my_list.sort()\n",
    "my_list"
   ]
  },
  {
   "cell_type": "code",
   "execution_count": 100,
   "id": "e39ffc25-dcd4-41a9-b28b-0b0445e4d944",
   "metadata": {},
   "outputs": [
    {
     "data": {
      "text/plain": [
       "[[1, 0, 0], [1, 0, 0], [1, 0, 0]]"
      ]
     },
     "execution_count": 100,
     "metadata": {},
     "output_type": "execute_result"
    }
   ],
   "source": [
    "# A = [0]*3 = [0,0,0]\n",
    "# B = A*3 = [[0,0,0],[0,0,0],[0,0,0]]\n",
    "# B[0][0] = 1 aynı zamanda A[0]=1 yani tüm A ların 0.indeksini 1 yapmaktır.\n",
    "B = [[0]*3]*3\n",
    "B[0][0] = 1\n",
    "B"
   ]
  },
  {
   "cell_type": "markdown",
   "id": "87ba6182-164e-4db2-ba35-76903d7fb931",
   "metadata": {},
   "source": [
    "<h2>Kümeler</h2>"
   ]
  },
  {
   "cell_type": "code",
   "execution_count": 104,
   "id": "bfebe234-7132-4a2d-8771-3c10f557d055",
   "metadata": {},
   "outputs": [],
   "source": [
    "s = {1, 2, 3}"
   ]
  },
  {
   "cell_type": "code",
   "execution_count": 106,
   "id": "43b3f7b7-8ef0-4edb-8ded-f5017480b921",
   "metadata": {},
   "outputs": [
    {
     "data": {
      "text/plain": [
       "{1, 2, 3, 4}"
      ]
     },
     "execution_count": 106,
     "metadata": {},
     "output_type": "execute_result"
    }
   ],
   "source": [
    "# eleman ekleme\n",
    "s.add(4)\n",
    "s"
   ]
  },
  {
   "cell_type": "code",
   "execution_count": 108,
   "id": "3897d730-5b59-4872-aa1d-625c4293e7e1",
   "metadata": {},
   "outputs": [
    {
     "name": "stdout",
     "output_type": "stream",
     "text": [
      "{1, 2}\n"
     ]
    }
   ],
   "source": [
    "# iki küme farkını döndürme\n",
    "\n",
    "a = {1, 2, 3, 4}\n",
    "b = {3, 4, 5}\n",
    "print(a.difference(b))  # a da olup b de olmayan a-b"
   ]
  },
  {
   "cell_type": "code",
   "execution_count": 112,
   "id": "c06ff80f-9e1d-4c1f-9e18-2ee0aabe0af4",
   "metadata": {},
   "outputs": [
    {
     "data": {
      "text/plain": [
       "{1, 2}"
      ]
     },
     "execution_count": 112,
     "metadata": {},
     "output_type": "execute_result"
    }
   ],
   "source": [
    "# a-b yi a ya atar\n",
    "a.difference_update(b)\n",
    "a"
   ]
  },
  {
   "cell_type": "code",
   "execution_count": 114,
   "id": "766a559c-2955-4151-85db-2ae33767843c",
   "metadata": {},
   "outputs": [
    {
     "name": "stdout",
     "output_type": "stream",
     "text": [
      "{1, 3}\n"
     ]
    }
   ],
   "source": [
    "# kümeden eleman silme\n",
    "s = {1, 2, 3}\n",
    "s.discard(2)\n",
    "print(s)"
   ]
  },
  {
   "cell_type": "code",
   "execution_count": 116,
   "id": "4556e4d8-fb1a-455e-9872-797c811284a0",
   "metadata": {},
   "outputs": [
    {
     "name": "stdout",
     "output_type": "stream",
     "text": [
      "True\n",
      "False\n"
     ]
    }
   ],
   "source": [
    "# ortak eleman yoksa true döndürür\n",
    "a = {1, 2}\n",
    "b = {3, 4}\n",
    "c = {2, 5}\n",
    "print(a.isdisjoint(b))  \n",
    "print(a.isdisjoint(c)) "
   ]
  },
  {
   "cell_type": "code",
   "execution_count": 118,
   "id": "e8b95882-5144-43e7-b55e-cab0996ca3f4",
   "metadata": {},
   "outputs": [
    {
     "name": "stdout",
     "output_type": "stream",
     "text": [
      "True\n",
      "False\n"
     ]
    }
   ],
   "source": [
    "# bir küme alt küme ise true döndürür.\n",
    "a = {1, 2}\n",
    "b = {1, 2, 3, 4}\n",
    "print(a.issubset(b)) \n",
    "print(b.issubset(a)) "
   ]
  },
  {
   "cell_type": "code",
   "execution_count": 120,
   "id": "6006d052-786a-4372-ab40-24d849663e17",
   "metadata": {},
   "outputs": [
    {
     "name": "stdout",
     "output_type": "stream",
     "text": [
      "{1, 2, 3, 4}\n"
     ]
    }
   ],
   "source": [
    "# iki kümenin birleşimi\n",
    "a = {1, 2}\n",
    "b = {3, 4}\n",
    "print(a.union(b))  "
   ]
  },
  {
   "cell_type": "code",
   "execution_count": 122,
   "id": "4afd21b1-0b13-4102-a1d8-d0f6cbfb6495",
   "metadata": {},
   "outputs": [
    {
     "name": "stdout",
     "output_type": "stream",
     "text": [
      "{1, 2, 3, 4}\n"
     ]
    }
   ],
   "source": [
    "# kümeye başka bir kümeyi ekler\n",
    "a = {1, 2}\n",
    "b = {3, 4}\n",
    "a.update(b)\n",
    "print(a)"
   ]
  },
  {
   "cell_type": "code",
   "execution_count": 124,
   "id": "cea6ee96-4887-4bcc-814c-668715137fbd",
   "metadata": {},
   "outputs": [
    {
     "name": "stdout",
     "output_type": "stream",
     "text": [
      "{3, 4}\n"
     ]
    }
   ],
   "source": [
    "# ortak elemanları bulma\n",
    "a = {1, 2, 3, 4}\n",
    "b = {3, 4, 5, 6}\n",
    "\n",
    "print(a.intersection(b))"
   ]
  },
  {
   "cell_type": "code",
   "execution_count": null,
   "id": "af28691a-4b85-4b0b-b89b-3bdda1805241",
   "metadata": {},
   "outputs": [],
   "source": []
  }
 ],
 "metadata": {
  "kernelspec": {
   "display_name": "Python 3 (ipykernel)",
   "language": "python",
   "name": "python3"
  },
  "language_info": {
   "codemirror_mode": {
    "name": "ipython",
    "version": 3
   },
   "file_extension": ".py",
   "mimetype": "text/x-python",
   "name": "python",
   "nbconvert_exporter": "python",
   "pygments_lexer": "ipython3",
   "version": "3.12.4"
  }
 },
 "nbformat": 4,
 "nbformat_minor": 5
}
