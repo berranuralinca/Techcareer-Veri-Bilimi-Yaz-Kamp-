{
 "cells": [
  {
   "cell_type": "markdown",
   "id": "3a3590b4-e44a-4aa4-b442-c46257613d67",
   "metadata": {},
   "source": [
    "<h1>3.Hafta Ödev</h1>"
   ]
  },
  {
   "cell_type": "code",
   "execution_count": 2,
   "id": "ccb0b486-c3ba-4fc4-89ee-591de649dc5e",
   "metadata": {},
   "outputs": [],
   "source": [
    "# Soru 1 – Liste Metotları\n",
    "# Bir sınıfta öğrencilerin notları şu şekilde tutuluyor:\n",
    "# notlar = [85, 92, 76, 92, 100, 76, 85, 92]\n",
    "# • Listedeki tekrar eden notları silip benzersiz bir liste oluşturun.\n",
    "# • En yüksek ve en düşük notu bulun.\n",
    "# • Notları küçükten büyüğe sıralayın."
   ]
  },
  {
   "cell_type": "code",
   "execution_count": 8,
   "id": "9b7e1634-036f-45f4-a529-b4c4ae72183c",
   "metadata": {},
   "outputs": [
    {
     "name": "stdout",
     "output_type": "stream",
     "text": [
      "[100, 92, 85, 76]\n",
      "En yüksek not: 100\n",
      "En düşük not: 76\n",
      "Notlar(küçükten büyüğe): [76, 85, 92, 100]\n"
     ]
    }
   ],
   "source": [
    "points = [85, 92, 76, 92, 100, 76, 85, 92]\n",
    "unique_list = list(set(points))\n",
    "print(unique_list)\n",
    "print(\"En yüksek not:\",max(unique_list))\n",
    "print(\"En düşük not:\",min(unique_list))\n",
    "print(\"Notlar(küçükten büyüğe):\",list(sorted(unique_list)))"
   ]
  },
  {
   "cell_type": "code",
   "execution_count": null,
   "id": "04d14f0d-4f34-48ed-b9f9-7035d7f67470",
   "metadata": {},
   "outputs": [],
   "source": [
    "# Soru 2 – Sayılar\n",
    "# Bir sayının Armstrong sayısı olup olmadığını kontrol eden bir Python fonksiyonu yazın.\n",
    "# Armstrong sayısı: Her basamağının küplerinin toplamı kendisine eşit olan sayılar.\n",
    "# Örn: 153 → 1³+5³+3³ = 153"
   ]
  },
  {
   "cell_type": "code",
   "execution_count": 30,
   "id": "4839b533-4e5e-42d9-9ca7-310e42b72cc5",
   "metadata": {
    "scrolled": true
   },
   "outputs": [
    {
     "name": "stdin",
     "output_type": "stream",
     "text": [
      "Sayı giriniz:  153\n"
     ]
    },
    {
     "name": "stdout",
     "output_type": "stream",
     "text": [
      "153 bir Armstrong sayıdır.\n"
     ]
    },
    {
     "data": {
      "text/plain": [
       "True"
      ]
     },
     "execution_count": 30,
     "metadata": {},
     "output_type": "execute_result"
    }
   ],
   "source": [
    "def isArmstrong(number_str):\n",
    "    digits = [int(x) for x in number_str]\n",
    "    total = sum([x**3 for x in digits])\n",
    "    if total == int(number_str):\n",
    "        print(f\"{number_str} bir Armstrong sayıdır.\")\n",
    "        return True\n",
    "\n",
    "str_number = input(\"Sayı giriniz: \")\n",
    "isArmstrong(str_number)"
   ]
  },
  {
   "cell_type": "code",
   "execution_count": 32,
   "id": "93d181ae-8c55-4b9b-82b8-468de2e5bdbf",
   "metadata": {},
   "outputs": [],
   "source": [
    "# Soru 3 – Kümeler\n",
    "# Aşağıdaki iki küme verilmiştir:\n",
    "# A = {\"Python\", \"R\", \"SQL\", \"Java\"}\n",
    "# B = {\"C++\", \"Python\", \"JavaScript\", \"SQL\"}\n",
    "# • Ortak dilleri bulun.\n",
    "# • Sadece A’da olan dilleri listeleyin.\n",
    "# • İki kümenin birleşimini alfabetik olarak yazdırın."
   ]
  },
  {
   "cell_type": "code",
   "execution_count": 38,
   "id": "9dd5b109-bce5-49b8-a80d-75f418956a3a",
   "metadata": {},
   "outputs": [
    {
     "name": "stdout",
     "output_type": "stream",
     "text": [
      "Ortak dilleri bulun. ['Python', 'SQL']\n",
      "Sadece A’da olan dilleri listeleyin. ['R', 'Java']\n",
      "İki kümenin birleşimini alfabetik olarak yazdırın. ['C++', 'Java', 'JavaScript', 'Python', 'R', 'SQL']\n"
     ]
    }
   ],
   "source": [
    "A = {\"Python\", \"R\", \"SQL\", \"Java\"}\n",
    "B = {\"C++\", \"Python\", \"JavaScript\", \"SQL\"}\n",
    "A_and_B = A.intersection(B)\n",
    "only_A = A.difference(B)\n",
    "A_or_B = sorted(A.union(B))\n",
    "print(\"Ortak dilleri bulun.\",list(A_and_B))\n",
    "print(\"Sadece A’da olan dilleri listeleyin.\",list(only_A))\n",
    "print(\"İki kümenin birleşimini alfabetik olarak yazdırın.\",list(A_or_B))"
   ]
  },
  {
   "cell_type": "code",
   "execution_count": 1,
   "id": "8b769dcb-c0a0-443e-a27b-9ed877454146",
   "metadata": {},
   "outputs": [],
   "source": [
    "# Soru 4 – Modüller\n",
    "# • random modülünü kullanarak 1–100 arasında 10 rastgele sayı üretin.\n",
    "# • Bu sayıların ortalamasını ve standart sapmasını statistics modülü ile hesaplayın."
   ]
  },
  {
   "cell_type": "code",
   "execution_count": 5,
   "id": "1b7cb8fd-14f4-4ebe-8d25-2489239b276e",
   "metadata": {},
   "outputs": [
    {
     "name": "stdout",
     "output_type": "stream",
     "text": [
      "Sayılar: [16, 39, 88, 64, 81, 52, 28, 27, 48, 19]\n",
      "Ortalama: 46.2\n",
      "Standart sapma: 23.907321054438533\n"
     ]
    }
   ],
   "source": [
    "import random\n",
    "import statistics\n",
    "\n",
    "number_list = random.sample(range(1, 101), 10)\n",
    "\n",
    "print(\"Sayılar:\", number_list)\n",
    "print(\"Ortalama:\", statistics.mean(number_list))\n",
    "print(\"Standart sapma:\", statistics.pstdev(number_list))"
   ]
  },
  {
   "cell_type": "code",
   "execution_count": 7,
   "id": "2f2c18f2-fd87-446c-a1a9-f61014148361",
   "metadata": {},
   "outputs": [],
   "source": [
    "# Soru 5 – Fonksiyonlar\n",
    "# kelime_sayacı(metin) adında bir fonksiyon yazın.\n",
    "# Fonksiyon verilen metindeki:\n",
    "# • toplam kelime sayısını\n",
    "# • en uzun kelimeyi\n",
    "# • en sık geçen kelimeyi döndürsün"
   ]
  },
  {
   "cell_type": "code",
   "execution_count": 15,
   "id": "93f5a81a-e2bc-4b21-bf55-0b4979eb9bd7",
   "metadata": {},
   "outputs": [
    {
     "name": "stdin",
     "output_type": "stream",
     "text": [
      "Metin giriniz ben çok ama çok iyiyim\n"
     ]
    },
    {
     "name": "stdout",
     "output_type": "stream",
     "text": [
      "Toplam kelime sayısı: 5,En uzun kelime:iyiyim,En sık geçen kelime:çok\n"
     ]
    }
   ],
   "source": [
    "def counter(text):\n",
    "    words = text.split()\n",
    "    word_count = len(words)\n",
    "    longer_word = max(words,key=len)\n",
    "    recursive = max(words,key=words.count)\n",
    "    return word_count,longer_word,recursive\n",
    "\n",
    "input_text = input(\"Metin giriniz\")\n",
    "word_count, longer_word, recursive = counter(input_text)\n",
    "print(f\"Toplam kelime sayısı: {word_count},En uzun kelime:{longer_word},En sık geçen kelime:{recursive}\")"
   ]
  },
  {
   "cell_type": "code",
   "execution_count": 27,
   "id": "04ab5816-5e0b-43ca-859b-fa8e1d90de11",
   "metadata": {},
   "outputs": [],
   "source": [
    "# Soru 6 – Gömülü Fonksiyonlar\n",
    "# Aşağıdaki liste için map, filter, sorted gibi gömülü fonksiyonları kullanarak:\n",
    "# sayilar = [5, 12, 7, 18, 24, 3, 16]\n",
    "# • Sadece çift sayıları filtreleyin.\n",
    "# • Bu sayıların karelerini bulun.\n",
    "# • Karelerini azalan sırada sıralayın.\n"
   ]
  },
  {
   "cell_type": "code",
   "execution_count": 29,
   "id": "2fcf62b8-c88e-4b27-8a5b-c0f332e6e58c",
   "metadata": {},
   "outputs": [
    {
     "name": "stdout",
     "output_type": "stream",
     "text": [
      "Çift sayılar: [12, 18, 24, 16]\n",
      "Kareleri: [144, 324, 576, 256]\n",
      "Sıralı hali: [576, 324, 256, 144]\n"
     ]
    }
   ],
   "source": [
    "numbers = [5, 12, 7, 18, 24, 3, 16]\n",
    "even_numbers = list(filter(lambda x: x % 2 == 0, numbers))\n",
    "sqrts = list(map(lambda x: x**2, even_numbers))\n",
    "sorted_list = sorted(sqrts, reverse=True)\n",
    "\n",
    "print(\"Çift sayılar:\", even_numbers)\n",
    "print(\"Kareleri:\", sqrts)\n",
    "print(\"Sıralı hali:\", sorted_list)"
   ]
  },
  {
   "cell_type": "code",
   "execution_count": 31,
   "id": "1d576383-1df7-47ef-ba19-9c6f00e28b34",
   "metadata": {},
   "outputs": [],
   "source": [
    "# Soru 7 – Lambda İfadeleri\n",
    "# Aşağıdaki listeyi, her kelimenin uzunluğuna göre küçükten büyüğe sıralayın.\n",
    "# kelimeler = [\"veri\", \"bilim\", \"analiz\", \"yapayzeka\", \"python\"]\n",
    "# Bunu sorted + lambda ile yapın."
   ]
  },
  {
   "cell_type": "code",
   "execution_count": 41,
   "id": "c9ed7696-f70a-4801-a9d0-617835d9466e",
   "metadata": {},
   "outputs": [
    {
     "name": "stdout",
     "output_type": "stream",
     "text": [
      "['veri', 'bilim', 'analiz', 'python', 'yapayzeka']\n"
     ]
    }
   ],
   "source": [
    "words = [\"veri\", \"bilim\", \"analiz\", \"yapayzeka\", \"python\"]\n",
    "sorted_list = sorted(words, key=lambda x: len(x))\n",
    "print(sorted_list)"
   ]
  },
  {
   "cell_type": "code",
   "execution_count": 9,
   "id": "c8b38113-8457-4f16-bdbd-32ad36bd1e3f",
   "metadata": {},
   "outputs": [],
   "source": [
    "# Soru 8 – Metodlar\n",
    "# Bir string içinde geçen tüm rakamları bulun ve bunların toplamını döndüren bir fonksiyon\n",
    "# yazın.\n",
    "# Örn: \"abc12def3\" → 12 + 3 = 15\n"
   ]
  },
  {
   "cell_type": "code",
   "execution_count": 11,
   "id": "f4d508e6-1a04-463d-8907-5112f44f3e3b",
   "metadata": {},
   "outputs": [
    {
     "name": "stdin",
     "output_type": "stream",
     "text": [
      "Metin giriniz: abc12def3\n"
     ]
    },
    {
     "name": "stdout",
     "output_type": "stream",
     "text": [
      "Metin içinde geçen rakamların toplamı: 15\n"
     ]
    }
   ],
   "source": [
    "def number_sum(str):\n",
    "    sum=0\n",
    "    number =\"\"\n",
    "    \n",
    "    for s in str:\n",
    "        if s.isdigit():\n",
    "            number += s\n",
    "        else:\n",
    "            if number:\n",
    "                sum += int(number)\n",
    "                number = \"\"\n",
    "    if number:\n",
    "        sum += int(number)\n",
    "\n",
    "    return sum\n",
    "\n",
    "my_text = input(\"Metin giriniz:\")\n",
    "print(\"Metin içinde geçen rakamların toplamı:\",number_sum(my_text))"
   ]
  },
  {
   "cell_type": "code",
   "execution_count": 15,
   "id": "92f50577-cf02-43ff-b696-8c020e148a0c",
   "metadata": {},
   "outputs": [
    {
     "name": "stdin",
     "output_type": "stream",
     "text": [
      "Metin giriniz: abc12def3\n"
     ]
    },
    {
     "name": "stdout",
     "output_type": "stream",
     "text": [
      "Metin içinde geçen rakamların toplamı: 15\n"
     ]
    }
   ],
   "source": [
    "import re\n",
    "\n",
    "def number_sum(str):\n",
    "    numbers = re.findall(r'\\d+', str)  # \\d sadece [1,2,3] - \\d+ [123]\n",
    "    return sum(int(number) for number in numbers)\n",
    "\n",
    "my_text = input(\"Metin giriniz:\")\n",
    "print(\"Metin içinde geçen rakamların toplamı:\",number_sum(my_text))"
   ]
  },
  {
   "cell_type": "code",
   "execution_count": 17,
   "id": "ddc15642-3347-40d9-9757-f5a7e8dcfd44",
   "metadata": {},
   "outputs": [],
   "source": [
    "#  9 – (Ekstra) Numpy 1\n",
    "# 10 elemanlı bir numpy dizisi oluşturun.\n",
    "# • Elemanlar 0–50 arasında rastgele sayılar olsun.\n",
    "# • Dizinin ortalamasını, standart sapmasını ve en büyük değerini bulun."
   ]
  },
  {
   "cell_type": "code",
   "execution_count": 31,
   "id": "bbf5fb64-39d6-43f8-a783-2870af011159",
   "metadata": {},
   "outputs": [
    {
     "name": "stdout",
     "output_type": "stream",
     "text": [
      "[32 16 23 35  7 46 19  0 15 33]\n",
      "Ortalama:22.6,standart sapma:13.290598180668917,en büyük değer:46\n"
     ]
    }
   ],
   "source": [
    "import numpy as np\n",
    "\n",
    "my_array = np.random.randint(0,50,10)\n",
    "average = np.mean(my_array)\n",
    "std = np.std(my_array)\n",
    "max_value = np.max(my_array)\n",
    "print(my_array)\n",
    "print(f\"Ortalama:{average},standart sapma:{std},en büyük değer:{max_value}\")"
   ]
  },
  {
   "cell_type": "code",
   "execution_count": 33,
   "id": "7b699d8f-45d8-4a94-9e18-94e9230396a0",
   "metadata": {},
   "outputs": [],
   "source": [
    "# Soru 10 – (Ekstra) Numpy 2\n",
    "# 5x5 boyutunda rastgele 0–1 arasında değerlerden oluşan bir numpy matrisi üretin.\n",
    "# • Her sütunun ortalamasını bulun.\n",
    "# • 0.5’ten büyük olan değerleri 1, küçük eşit olanları 0 yaparak binary matris oluşturun."
   ]
  },
  {
   "cell_type": "code",
   "execution_count": 65,
   "id": "8cb916d1-cf7a-454f-a088-bef31451554d",
   "metadata": {},
   "outputs": [
    {
     "name": "stdout",
     "output_type": "stream",
     "text": [
      "Matris\n",
      "[[0.53536494 0.80230261 0.15473695 0.17120279 0.87104512]\n",
      " [0.89093052 0.58498248 0.48776245 0.33784254 0.29188185]\n",
      " [0.57047663 0.65084811 0.00964222 0.41400646 0.78954263]\n",
      " [0.5660586  0.66050348 0.14414152 0.83562585 0.13554082]\n",
      " [0.11488869 0.7075113  0.37989009 0.71261527 0.44074982]]\n",
      "Binary matrisi:\n",
      "[[1 1 0 0 1]\n",
      " [1 1 0 0 0]\n",
      " [1 1 0 0 1]\n",
      " [1 1 0 1 0]\n",
      " [0 1 0 1 0]]\n",
      "Ortalamalar: [0.50693048 0.51867997 0.48690321 0.46837405 0.47113104]\n"
     ]
    }
   ],
   "source": [
    "import numpy as np\n",
    "\n",
    "my_array = np.random.random_sample((5,5))\n",
    "print(\"Matris\")\n",
    "print(my_array)\n",
    "col_means = my_array.mean(axis=1)  \n",
    "binary_matrix = (my_array > 0.5).astype(int)\n",
    "\n",
    "print(\"Binary matrisi:\")\n",
    "print(binary_matrix)\n",
    "print(\"Ortalamalar:\",col_means)"
   ]
  },
  {
   "cell_type": "code",
   "execution_count": null,
   "id": "dd8f7eb4-a86e-4f28-9fb9-4e91331a1f2c",
   "metadata": {},
   "outputs": [],
   "source": []
  }
 ],
 "metadata": {
  "kernelspec": {
   "display_name": "Python 3 (ipykernel)",
   "language": "python",
   "name": "python3"
  },
  "language_info": {
   "codemirror_mode": {
    "name": "ipython",
    "version": 3
   },
   "file_extension": ".py",
   "mimetype": "text/x-python",
   "name": "python",
   "nbconvert_exporter": "python",
   "pygments_lexer": "ipython3",
   "version": "3.12.4"
  }
 },
 "nbformat": 4,
 "nbformat_minor": 5
}
