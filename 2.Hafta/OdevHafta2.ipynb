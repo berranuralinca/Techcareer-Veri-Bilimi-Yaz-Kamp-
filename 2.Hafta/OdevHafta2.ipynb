{
 "cells": [
  {
   "cell_type": "markdown",
   "id": "bb66d219-91af-4439-9146-cf13a8063351",
   "metadata": {},
   "source": [
    "<h1>Haftalık Ödev – Yaz Kampı: Veri Bilimi – Hafta 2</h1>"
   ]
  },
  {
   "cell_type": "markdown",
   "id": "4b1fdb8d-5994-4bc7-9955-fc38f4f4502f",
   "metadata": {},
   "source": [
    "<h4>SORULAR<h4>"
   ]
  },
  {
   "cell_type": "markdown",
   "id": "29ad7010-6461-48c6-9e8c-1cc887baa152",
   "metadata": {},
   "source": [
    "***"
   ]
  },
  {
   "cell_type": "markdown",
   "id": "b5cc1c13-5028-498e-b0c3-98e32c6ee3b3",
   "metadata": {},
   "source": [
    "### Soru 1 – Sayı Analizi\n",
    "\n",
    "- Kullanıcıdan bir sayı isteyin.  \n",
    "  - Sayı pozitif, negatif ya da sıfır mı kontrol edin.  \n",
    "  - Aynı zamanda tek/çift olup olmadığını da belirtin.  \n",
    "\n",
    "Çıktı örneği: **\"Pozitif Çift\"** veya **\"Negatif Tek\"** gibi.  \n"
   ]
  },
  {
   "cell_type": "code",
   "execution_count": 21,
   "id": "d8724e57-dc1c-474b-bf35-a64f4ca629db",
   "metadata": {},
   "outputs": [
    {
     "name": "stdin",
     "output_type": "stream",
     "text": [
      "Lütfen bir sayı giriniz:  3\n"
     ]
    },
    {
     "name": "stdout",
     "output_type": "stream",
     "text": [
      "Sayı 3,Pozitif Tek\n"
     ]
    }
   ],
   "source": [
    "number = int(input(\"Lütfen bir sayı giriniz: \"))\n",
    "\n",
    "if number == 0:\n",
    "    print(\"Sayı sıfırdır.\")\n",
    "else:\n",
    "    Posi_Negative = \"Pozitif\" if number > 0 else \"Negatif\"\n",
    "    Even_Odd = \"Çift\" if number % 2 == 0 else \"Tek\"\n",
    "    \n",
    "    print(f\"Sayı {number},{Posi_Negative} {Even_Odd}\")"
   ]
  },
  {
   "cell_type": "markdown",
   "id": "2a24b14a-4f9a-48b0-8f26-191a2f4b4832",
   "metadata": {},
   "source": [
    "***"
   ]
  },
  {
   "cell_type": "markdown",
   "id": "395978ea-a590-495b-a942-f67601a1c613",
   "metadata": {},
   "source": [
    "### Soru 2 – Harf Frekansı (String)\n",
    "\n",
    "- Kullanıcıdan bir kelime alın.  \n",
    "  - Hangi harften kaç tane geçtiğini bulun.  \n",
    "  - Sonucu dictionary olarak gösterin.  \n",
    "\n",
    "Örnek: **\"data\" → {'d': 1, 'a': 2, 't': 1}**\n"
   ]
  },
  {
   "cell_type": "code",
   "execution_count": 19,
   "id": "58aa90bc-c14a-485d-bdfb-a5418b208668",
   "metadata": {},
   "outputs": [
    {
     "name": "stdin",
     "output_type": "stream",
     "text": [
      "Kelime giriniz:  data\n"
     ]
    },
    {
     "name": "stdout",
     "output_type": "stream",
     "text": [
      "{'d': 1, 'a': 2, 't': 1}\n"
     ]
    }
   ],
   "source": [
    "word = input(\"Kelime giriniz: \")\n",
    "frequence = {}\n",
    "\n",
    "for letter in word:\n",
    "    if letter in frequence:\n",
    "        frequence[letter] += 1\n",
    "    else:\n",
    "        frequence[letter] = 1\n",
    "\n",
    "print(frequence)"
   ]
  },
  {
   "cell_type": "code",
   "execution_count": 25,
   "id": "1b4f7aef-5206-4769-9f53-9cbe75dd9bf3",
   "metadata": {},
   "outputs": [
    {
     "name": "stdin",
     "output_type": "stream",
     "text": [
      "Kelime giriniz:  data\n"
     ]
    },
    {
     "name": "stdout",
     "output_type": "stream",
     "text": [
      "{'d': 1, 'a': 2, 't': 1}\n"
     ]
    }
   ],
   "source": [
    "word = input(\"Kelime giriniz: \")\n",
    "frequence = {}\n",
    "\n",
    "for letter in word:\n",
    "    if letter not in frequence:\n",
    "        frequence[letter] = word.count(letter)\n",
    "\n",
    "print(frequence)"
   ]
  },
  {
   "cell_type": "markdown",
   "id": "330ecfcf-cc0c-44b7-938c-249667bde234",
   "metadata": {},
   "source": [
    "***"
   ]
  },
  {
   "cell_type": "markdown",
   "id": "12c9d2fd-fc50-4699-95f4-fd7188999fff",
   "metadata": {},
   "source": [
    "### Soru 3 – Şifre Kontrolü (String Metotları)\r\n",
    "\r\n",
    "- Kullanıcıdan şifre girmesini isteyin. Şifre:  \r\n",
    "  - En az 8 karakter olmalı  \r\n",
    "  - En az 1 büyük harf içermeli  \r\n",
    "  - En az 1 rakam içerme  \r\n",
    "- Koşulları sağlayıp sağlamadığına göre kullanıcıyı bilgilenirin.\r\n",
    "dirin.\r\n"
   ]
  },
  {
   "cell_type": "code",
   "execution_count": 3,
   "id": "59723382-ffc5-4804-8568-cd458cb2f3b0",
   "metadata": {},
   "outputs": [
    {
     "name": "stdin",
     "output_type": "stream",
     "text": [
      "Şifre: test\n"
     ]
    },
    {
     "name": "stdout",
     "output_type": "stream",
     "text": [
      "En az 8 karakter olmalı!\n",
      "En az 1 büyük harf içermeli!\n",
      "En az 1 rakam içermeli!\n",
      "*****\n"
     ]
    },
    {
     "name": "stdin",
     "output_type": "stream",
     "text": [
      "Şifre: test1\n"
     ]
    },
    {
     "name": "stdout",
     "output_type": "stream",
     "text": [
      "En az 8 karakter olmalı!\n",
      "En az 1 büyük harf içermeli!\n",
      "*****\n"
     ]
    },
    {
     "name": "stdin",
     "output_type": "stream",
     "text": [
      "Şifre: Test1\n"
     ]
    },
    {
     "name": "stdout",
     "output_type": "stream",
     "text": [
      "En az 8 karakter olmalı!\n",
      "*****\n"
     ]
    },
    {
     "name": "stdin",
     "output_type": "stream",
     "text": [
      "Şifre: Test1234\n"
     ]
    },
    {
     "name": "stdout",
     "output_type": "stream",
     "text": [
      "Şifre başarıyla oluşturuldu.\n"
     ]
    }
   ],
   "source": [
    "while True:\n",
    "    \n",
    "    password = input(\"Şifre:\")\n",
    "    errors = []\n",
    "    \n",
    "    if len(password) < 8:\n",
    "        errors.append(\"En az 8 karakter olmalı!\")\n",
    "    if not any(char.isupper() for char in password):\n",
    "        errors.append(\"En az 1 büyük harf içermeli!\")\n",
    "    if not any(char.isdigit() for char in password):\n",
    "        errors.append(\"En az 1 rakam içermeli!\")\n",
    "\n",
    "    if not errors:\n",
    "        print(\"Şifre başarıyla oluşturuldu.\")        \n",
    "        break\n",
    "    else:\n",
    "        for error in errors:\n",
    "            print(error)\n",
    "            \n",
    "    print(\"*****\")"
   ]
  },
  {
   "cell_type": "markdown",
   "id": "7a123cb5-3ea5-4741-a9d0-4dc4e1f9182c",
   "metadata": {},
   "source": [
    "***"
   ]
  },
  {
   "cell_type": "markdown",
   "id": "65c17822-a902-44cc-b12e-754a17814dac",
   "metadata": {},
   "source": [
    "### Soru 4 – Liste İşlemleri\n",
    "\n",
    "- **[12, 4, 9, 25, 30, 7, 18]** listesini kullanın.\n",
    "  - Listenin ortalamasını bulun.\n",
    "  - Ortalamadan büyük sayıları ayrı bir listeye atın.\n",
    "  - Sonucu ekrana yazdırın."
   ]
  },
  {
   "cell_type": "code",
   "execution_count": 20,
   "id": "d6fc6602-f60b-486d-844e-47cf9e66e2c5",
   "metadata": {},
   "outputs": [
    {
     "name": "stdin",
     "output_type": "stream",
     "text": [
      "Sayıları girin (boşluklar bırakarak):  12 4 9 25 30 7 18\n"
     ]
    },
    {
     "name": "stdout",
     "output_type": "stream",
     "text": [
      "Ortalama: 15\n",
      "Ortalamadan büyük sayılar: [25, 30, 18]\n"
     ]
    }
   ],
   "source": [
    "import statistics\n",
    "\n",
    "numbers = input(\"Sayıları girin (boşluklar bırakarak): \")\n",
    "\n",
    "number_list = [int(x) for x in numbers.split()]\n",
    "average = statistics.mean(number_list)\n",
    "bigger_than = [x for x in number_list if x>average]\n",
    "\n",
    "print(\"Ortalama:\",average)\n",
    "print(\"Ortalamadan büyük sayılar:\",bigger_than)"
   ]
  },
  {
   "cell_type": "markdown",
   "id": "6845e27a-a7ee-42df-9a13-8dbbd181f278",
   "metadata": {},
   "source": [
    "***"
   ]
  },
  {
   "cell_type": "markdown",
   "id": "3435e6d6-6d8d-4c1a-9728-8bf548218009",
   "metadata": {},
   "source": [
    "### Soru 5 – Nested Loop (Desen)\n",
    "\n",
    "Aşağıdaki çıktıyı üreten programı yazın (üçgen desen):"
   ]
  },
  {
   "cell_type": "raw",
   "id": "a4a9ed6b-5985-4914-ad21-3cf534a4a9ba",
   "metadata": {},
   "source": [
    "*\n",
    "**\n",
    "***\n",
    "****\n",
    "*****"
   ]
  },
  {
   "cell_type": "code",
   "execution_count": 34,
   "id": "6428fb88-f090-44e2-90dc-d55ba40ddf04",
   "metadata": {},
   "outputs": [
    {
     "name": "stdout",
     "output_type": "stream",
     "text": [
      "*\n",
      "**\n",
      "***\n",
      "****\n",
      "*****\n"
     ]
    }
   ],
   "source": [
    "for i in range(1,6):\n",
    "    print(\"*\"*i)"
   ]
  },
  {
   "cell_type": "markdown",
   "id": "74f1d1e2-b13a-4c93-ac2c-a40b2760ab36",
   "metadata": {},
   "source": [
    "***"
   ]
  },
  {
   "cell_type": "markdown",
   "id": "e3e28a87-199c-44f1-8e34-209d96d3599b",
   "metadata": {},
   "source": [
    "### Soru 6 – While Döngüsü\n",
    "\n",
    "- Kullanıcıdan sürekli sayı isteyin.\n",
    "  - Kullanıcı 0 girdiğinde program dursun.\n",
    "  - Girilen tüm sayıların toplamını ve ortalamasını yazdırın.\n"
   ]
  },
  {
   "cell_type": "code",
   "execution_count": 44,
   "id": "a7695f5c-6312-4354-95ab-732bb39d36a3",
   "metadata": {},
   "outputs": [
    {
     "name": "stdin",
     "output_type": "stream",
     "text": [
      "Sayı giriniz: 1\n",
      "Sayı giriniz: 2\n",
      "Sayı giriniz: 3\n",
      "Sayı giriniz: 4\n",
      "Sayı giriniz: 5\n",
      "Sayı giriniz: 0\n"
     ]
    },
    {
     "name": "stdout",
     "output_type": "stream",
     "text": [
      "Sayıların toplamı 15,ortalaması 3.0\n"
     ]
    }
   ],
   "source": [
    "sum=0\n",
    "count = 0\n",
    "\n",
    "while True:\n",
    "    number = int(input(\"Sayı giriniz:\"))\n",
    "    if not number == 0:\n",
    "        sum+=number\n",
    "        count+=1\n",
    "    else:\n",
    "        print(f\"Sayıların toplamı {sum},ortalaması {sum/count}\")\n",
    "        break\n",
    " "
   ]
  },
  {
   "cell_type": "markdown",
   "id": "6438a3b4-2567-42ca-a425-1d6b94454a2c",
   "metadata": {},
   "source": [
    "***"
   ]
  },
  {
   "cell_type": "markdown",
   "id": "f41dc3bd-fc2a-430c-9b22-13f507b087b6",
   "metadata": {},
   "source": [
    "### Soru 7 – Palindrom Kontrolü\n",
    "\n",
    "- Kullanıcıdan bir kelime isteyin.\n",
    "- Kelimenin palindrom olup olmadığını kontrol edin.\n",
    "- Örnek: \"kayak\" → Palindrom , \"python\" → Değil "
   ]
  },
  {
   "cell_type": "code",
   "execution_count": 74,
   "id": "477baa82-3055-4654-a322-1b147261bff0",
   "metadata": {},
   "outputs": [
    {
     "name": "stdin",
     "output_type": "stream",
     "text": [
      "kelime girin:  kayak\n"
     ]
    },
    {
     "name": "stdout",
     "output_type": "stream",
     "text": [
      "Kelime palindrom değildir\n"
     ]
    }
   ],
   "source": [
    "word = input(\"kelime girin:\").strip()\n",
    "\n",
    "i=0\n",
    "j=len(word)-1\n",
    "while(word[i]==word[j] and i<=j):\n",
    "    i+=1\n",
    "    j-=1\n",
    "    \n",
    "if i > j:\n",
    "    print(\"Kelime palindromdur.\")\n",
    "else:\n",
    "    print(\"Kelime palindrom değildir\")"
   ]
  },
  {
   "cell_type": "markdown",
   "id": "94f3cb1b-72ef-465b-b4b6-f5c4698f4fb8",
   "metadata": {},
   "source": [
    "***"
   ]
  },
  {
   "cell_type": "markdown",
   "id": "89ddce96-fa6f-4c6d-a84c-a59c93ec9724",
   "metadata": {},
   "source": [
    "### Soru 8 – List Comprehension\n",
    "\n",
    "- 1’den 100’e kadar olan sayılardan:  \n",
    "  - Hem 3’e hem 5’e bölünebilenlerin karelerini içeren bir liste oluşturun.  \n",
    "  - Sonucu ekrana yazdırın.\n"
   ]
  },
  {
   "cell_type": "code",
   "execution_count": 91,
   "id": "e8d38f74-0052-4c28-acb7-5836f67d2017",
   "metadata": {},
   "outputs": [
    {
     "name": "stdout",
     "output_type": "stream",
     "text": [
      "Sayılar: [15, 30, 45, 60, 75, 90]\n",
      "Hem 3’e hem 5’e bölünebilenlerin kareleri: [225, 900, 2025, 3600, 5625, 8100]\n"
     ]
    }
   ],
   "source": [
    "numbers = [i for i in range(1,100) if i%3==0 and i%5==0]\n",
    "squares = [i**2 for i in numbers]\n",
    "print(\"Sayılar:\",numbers)\n",
    "print(\"Hem 3’e hem 5’e bölünebilenlerin kareleri:\",squares)"
   ]
  },
  {
   "cell_type": "markdown",
   "id": "d82ddd5a-e866-4b43-8ced-a21162346d53",
   "metadata": {},
   "source": [
    "***"
   ]
  },
  {
   "cell_type": "markdown",
   "id": "51f0cab4-28c4-426b-9916-800b29fcbc2a",
   "metadata": {},
   "source": [
    "### Soru 9 – String İşlemleri\n",
    "- Bir cümle alın.\n",
    "  - Cümledeki kelimeleri split() ile ayırın.\n",
    "  - Her kelimenin ilk harfini büyük yaparak yeni bir string oluşturun.\n",
    "  - Örnek: \"python veri bilimi\" → \"Python Veri Bilimi\""
   ]
  },
  {
   "cell_type": "code",
   "execution_count": 101,
   "id": "28a271de-e80e-43af-90f5-f7f4b21097f8",
   "metadata": {},
   "outputs": [
    {
     "name": "stdin",
     "output_type": "stream",
     "text": [
      "Cümle giriniz:  python veri bilimi\n"
     ]
    },
    {
     "name": "stdout",
     "output_type": "stream",
     "text": [
      "Python Veri Bilimi\n"
     ]
    }
   ],
   "source": [
    "sentence = input(\"Cümle giriniz: \")\n",
    "\n",
    "words = [word.capitalize() for word in sentence.split()]\n",
    "capitalized_sentence = \" \".join(words)\n",
    "\n",
    "print(capitalized_sentence)"
   ]
  },
  {
   "cell_type": "markdown",
   "id": "41555a4b-69c2-42be-91aa-25b94165ed28",
   "metadata": {},
   "source": [
    "***"
   ]
  },
  {
   "cell_type": "markdown",
   "id": "68ebffea-6852-4354-a897-dc0d8d47d051",
   "metadata": {},
   "source": [
    "### Mini Proje – Film Yorumu Analizi\n",
    "\n",
    "- Proje Tanımı:\n",
    "- Kullanıcıdan birkaç film yorumu alın (örneğin 5–6 yorum).\n",
    "    - Yorumları bir listeye atın.\n",
    "    - Her yorumun uzunluğunu (karakter sayısı) bulun.\n",
    "    - Kaç yorumda \"iyi\" kelimesi geçtiğini sayın.\n",
    "    - En uzun yorumu ve en kısa yorumu ekrana yazdırın.\n",
    "    - Tüm yorumların ortalama uzunluğunu hesaplayın."
   ]
  },
  {
   "cell_type": "raw",
   "id": "cac89f58-2587-4d28-bb1b-0d499bddd08b",
   "metadata": {},
   "source": [
    "Girdi (yorumlar):\n",
    "[\"Film çok güzeldi\", \"Kötüydü\", \"Ortalama bir filmdi\", \"Gerçekten çok iyi!\", \"İyi ama daha iyi\n",
    "olabilirdi\n",
    "\n",
    "Çıktı:\n",
    "Toplam yorum sayısı: 5\n",
    "\"iyi\" geçen yorum sayısı: 2\n",
    "En uzun yorum: İyi ama daha iyi olabilirdi\n",
    "En kısa yorum: Kötüydü\n",
    "Ortalama uzunluk: 17.4 karakter"
   ]
  },
  {
   "cell_type": "code",
   "execution_count": 3,
   "id": "747e9634-1c54-42e2-aa96-ecaee6a2eb4d",
   "metadata": {},
   "outputs": [
    {
     "name": "stdin",
     "output_type": "stream",
     "text": [
      "Yorum girin (Çıkmak için 'x'):  Film çok güzeldi\n",
      "Yorum girin (Çıkmak için 'x'):  Kötüydü\n",
      "Yorum girin (Çıkmak için 'x'):  Ortalama bir filmdi\n",
      "Yorum girin (Çıkmak için 'x'):  Gerçekten çok iyi!\n",
      "Yorum girin (Çıkmak için 'x'):  İyi ama daha iyi olabilirdi\n",
      "Yorum girin (Çıkmak için 'x'):  x\n"
     ]
    },
    {
     "name": "stdout",
     "output_type": "stream",
     "text": [
      "Toplam yorum sayısı: 5\n",
      "'iyi' geçen yorum sayısı: 2\n",
      "En uzun yorum: İyi ama daha iyi olabilirdi\n",
      "En kısa yorum: Kötüydü\n",
      "Ortalama uzunluk: 17.4\n"
     ]
    }
   ],
   "source": [
    "comments = []\n",
    "lengths = {}\n",
    "count = 0\n",
    "\n",
    "while True:\n",
    "    comment = input(\"Yorum girin (Çıkmak için 'x'): \").strip()\n",
    "    if comment.lower() == \"x\":\n",
    "        break\n",
    "    comments.append(comment)\n",
    "    lengths[comment] = len(comment)\n",
    "    if \"iyi\" in comment.lower():\n",
    "        count += 1\n",
    "\n",
    "if comments:  \n",
    "    print(\"Toplam yorum sayısı:\", len(comments))\n",
    "    print(f\"'iyi' geçen yorum sayısı:\", count)\n",
    "    print(\"En uzun yorum:\", max(comments, key=len))\n",
    "    print(\"En kısa yorum:\", min(comments, key=len))\n",
    "    print(\"Ortalama uzunluk:\", sum(lengths.values()) / len(comments))\n",
    "else:\n",
    "    print(\"Hiç yorum girilmedi.\")\n"
   ]
  }
 ],
 "metadata": {
  "kernelspec": {
   "display_name": "Python 3 (ipykernel)",
   "language": "python",
   "name": "python3"
  },
  "language_info": {
   "codemirror_mode": {
    "name": "ipython",
    "version": 3
   },
   "file_extension": ".py",
   "mimetype": "text/x-python",
   "name": "python",
   "nbconvert_exporter": "python",
   "pygments_lexer": "ipython3",
   "version": "3.12.4"
  }
 },
 "nbformat": 4,
 "nbformat_minor": 5
}
