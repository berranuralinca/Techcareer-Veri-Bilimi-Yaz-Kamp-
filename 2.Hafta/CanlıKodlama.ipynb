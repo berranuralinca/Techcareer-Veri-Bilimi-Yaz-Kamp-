{
 "cells": [
  {
   "cell_type": "code",
   "execution_count": null,
   "id": "ada8f58b-2e3e-4e9d-a507-99552d0f279d",
   "metadata": {},
   "outputs": [],
   "source": [
    "quantity = int(input(\"Meyve çeşidi sayısı: \"))\n",
    "fruits = {}\n",
    "kdv = 20 / 100  \n",
    "\n",
    "for i in range(quantity):\n",
    "    fruit_name = input(\"Meyve adı: \")\n",
    "    kg = float(input(f\"{fruit_name} kilosu: \"))\n",
    "    price = float(input(f\"{fruit_name} fiyatı/kg: \"))\n",
    "    print(\"************\")\n",
    "    \n",
    "    kdv_price = price * (1 + kdv)\n",
    "    total_price = kdv_price * kg\n",
    "    \n",
    "    fruits[fruit_name] = {\n",
    "        \"kg\": kg,\n",
    "        \"price\": price,\n",
    "        \"kdv_price\": kdv_price,\n",
    "        \"total_price\": total_price\n",
    "    }\n",
    "\n",
    "print(\"Ürünler ve KDV dahil fiyatları:\")\n",
    "for fruit, info in fruits.items():\n",
    "    print(f\"{fruit}: {info['kg']} kg, {info['price']} TL, \"\n",
    "          f\"KDV dahil fiyat/kg: {info['kdv_price']:.2f} TL, \"\n",
    "          f\"Toplam: {info['total_price']:.2f} TL\")\n",
    "\n",
    "\n",
    "max_fruit = max(fruits.items(), key=lambda x: x[1]['total_price'])\n",
    "min_fruit = min(fruits.items(), key=lambda x: x[1]['total_price'])\n",
    "\n",
    "total_price_fruits = sum(info['total_price'] for info in fruits.values())\n",
    "average_price = total_price_fruits / len(fruits)\n",
    "total_kg = sum(info['kg'] for info in fruits.values())\n",
    "print(\"************\")\n",
    "print(f\"Toplam tutar (KDV dahil): {total_price_fruits:.2f} TL\")\n",
    "print(f\"Toplam alınacak meyve miktarı: {total_kg:.2f} kg\")\n",
    "print(f\"Ortalama ürün tutarı: {average_price:.2f} TL\")\n",
    "print(f\"En pahalı ürün: {max_fruit[0]}, fiyat: {max_fruit[1]['total_price']:.2f} TL\")\n",
    "print(f\"En ucuz ürün: {min_fruit[0]}, fiyat: {min_fruit[1]['total_price']:.2f} TL\")\n",
    "print(\"************\")\n",
    "print(\"Ürünler toplam fiyata göre azalan sırada:\")\n",
    "sorted_fruits = sorted(fruits.items(), key=lambda x: x[1]['total_price'], reverse=True)\n",
    "for fruit, info in sorted_fruits:\n",
    "    print(f\"{fruit}: Toplam {info['total_price']:.2f} TL\")\n"
   ]
  },
  {
   "cell_type": "code",
   "execution_count": null,
   "id": "fd034d74-73d8-41bc-adf9-a34aff3dfce2",
   "metadata": {},
   "outputs": [],
   "source": []
  }
 ],
 "metadata": {
  "kernelspec": {
   "display_name": "Python 3 (ipykernel)",
   "language": "python",
   "name": "python3"
  },
  "language_info": {
   "codemirror_mode": {
    "name": "ipython",
    "version": 3
   },
   "file_extension": ".py",
   "mimetype": "text/x-python",
   "name": "python",
   "nbconvert_exporter": "python",
   "pygments_lexer": "ipython3",
   "version": "3.12.4"
  }
 },
 "nbformat": 4,
 "nbformat_minor": 5
}
